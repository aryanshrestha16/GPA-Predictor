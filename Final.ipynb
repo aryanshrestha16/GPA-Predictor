{
 "cells": [
  {
   "cell_type": "markdown",
   "id": "1468c13c-9dee-4910-bbaa-e29004c6f8f9",
   "metadata": {},
   "source": [
    "Welcome to your final project! For this project, you will be given a dataset and tasked with doing a datascience project with it. To help you out, you'll be provided a notebook to fill out. Copy this notebook, fill it out, and turn it in! Make sure your writing is clear, precise and professional--you will be graded on writing quality. Make sure your visualizations are also well labeled and put together. Submit a notebook and a PDF.\n",
    "\n",
    "# The Dataset\n",
    "`\n",
    "Your task here will be predicting studnet GPAs. \n",
    "\n",
    "Download the following dataset: https://drive.google.com/file/d/14jkgeXF1_0U446EWP1Ee8L8UoJM53TYg/view?usp=sharing\n",
    "\n",
    "It contains:\n",
    "\n",
    "*   id--a student's id\n",
    "*   lat--student's home latittude\n",
    "*   lon--student's home longitude\n",
    "*   avg_hours_studided--how many hours this student studied every week on average this semester\n",
    "*   parents_income--the student's parent's income in dollars.\n",
    "*   major--the student's major\n",
    "*   tutoring--whether or not the student received tutoring this semester\n",
    "*   semester--what semester it is\n",
    "*   credits--how many credits the student took this semester\n",
    "*   student_age--how old the student is\n",
    "*   student_year--what year of college the student is\n",
    "*   year--what year it is\n",
    "\n",
    "Your task will be writing an algorithm that, given a set of student information, will predict the student's GPA. As you go, you'll need to fill in each section. For each section, provide code that does what the section asks, as well as a thoughtful, well written explanation of your observations.\n",
    "\n"
   ]
  },
  {
   "cell_type": "markdown",
   "id": "75ec4527-ea42-4421-aef0-4141490c0176",
   "metadata": {},
   "source": [
    "# Introduction\n",
    "In this project we aim to demonstrate our learning and undersetanding of our CMSC320 Class. Our task in this project is to correctly predict a student GPAs.\n",
    "We are given multiple varaiables such as id,latitude,longitude,credits,average hours studied to help us create the precise alogirthm to correctly predict it.\n",
    "The difficulties in this project would be limited features as we are not given the characteristics of the student as to how they study as some may tend to get off track easily. The dataset also contains outliers and missing variables."
   ]
  },
  {
   "cell_type": "markdown",
   "id": "15c5704d-642b-4090-8178-fcfbd5907ab2",
   "metadata": {},
   "source": [
    "### Libraries Used\n",
    "\n",
    "* Pandas: Used to display and organize data in dataframes\n",
    "* Numpy: Used to support our data\n",
    "* scikit-learn: Used to create predictive model to correctly predict a student GPAs.\n",
    "* Seaborn: Used to create plots\n",
    "* matplotlib: Used to format plots\n",
    "* scipy: Used to perform hypothesis testing"
   ]
  },
  {
   "cell_type": "code",
   "execution_count": 553,
   "id": "29f57c76-5736-480b-8e06-8c507344dc62",
   "metadata": {},
   "outputs": [],
   "source": [
    "import pandas as pd\n",
    "import numpy as np\n",
    "import seaborn as sns\n",
    "import scipy.stats as stats\n",
    "from scipy.stats import zscore\n",
    "from scipy.stats import ttest_ind\n",
    "from sklearn.metrics import accuracy_score\n",
    "from sklearn.model_selection import train_test_split, cross_val_score\n",
    "from sklearn.tree import DecisionTreeRegressor\n",
    "from sklearn.neighbors import KNeighborsRegressor\n",
    "from sklearn.linear_model import LinearRegression\n",
    "from sklearn.metrics import mean_squared_error, mean_absolute_error\n",
    "from sklearn.preprocessing import StandardScaler\n",
    "\n",
    "from matplotlib import pyplot as plt"
   ]
  },
  {
   "cell_type": "markdown",
   "id": "6930fe28-15aa-4335-8b99-4f87267206fd",
   "metadata": {},
   "source": [
    "# Data Exploration\n",
    "\n",
    "For this section, explore each variable. For each column, provide information on the min, max, a histogram, and brief speculation about whether or not it will be useful going forward. This is most of where your visualizations should go. You should also answer the following questions. Note that some of these require hypothesis tests.\n",
    "\n",
    "* Does this school have transfer students?\n",
    "* What is the median length of attendence at this university?\n",
    "* Do you think this university has any one credit classes?\n",
    "* Is grade inflation a problem at this university?\n",
    "* In what area do you think the Univesrity might be located?\n",
    "* Does tutoring make a stastically significant difference in grade?\n",
    "* How often do students switch majors?\n",
    "* Do different majors have different GPA distributions?"
   ]
  },
  {
   "cell_type": "markdown",
   "id": "13291e4e-99de-48d2-a051-9c959a1a4e3d",
   "metadata": {},
   "source": [
    "## About the dataset\n",
    "The dataset we will be using contains entries from 1000000 semesters. The dataset was provided by our professor.\n",
    "\n",
    "The dataset contains id, latitute, longitude, gpa, average hours studient, parents income, major, tutoring, semester, year, credits taken, student age and student year.\n",
    "\n",
    "I downloaded the dataset as a csv file and loaded in the dataset."
   ]
  },
  {
   "cell_type": "code",
   "execution_count": 554,
   "id": "3c345f8c-4bbe-435f-8ea1-8ac9c7522151",
   "metadata": {},
   "outputs": [
    {
     "data": {
      "text/html": [
       "<div>\n",
       "<style scoped>\n",
       "    .dataframe tbody tr th:only-of-type {\n",
       "        vertical-align: middle;\n",
       "    }\n",
       "\n",
       "    .dataframe tbody tr th {\n",
       "        vertical-align: top;\n",
       "    }\n",
       "\n",
       "    .dataframe thead th {\n",
       "        text-align: right;\n",
       "    }\n",
       "</style>\n",
       "<table border=\"1\" class=\"dataframe\">\n",
       "  <thead>\n",
       "    <tr style=\"text-align: right;\">\n",
       "      <th></th>\n",
       "      <th>Unnamed: 0</th>\n",
       "      <th>id</th>\n",
       "      <th>lat</th>\n",
       "      <th>lon</th>\n",
       "      <th>gpa</th>\n",
       "      <th>avg_hours_studied</th>\n",
       "      <th>parents_income</th>\n",
       "      <th>major</th>\n",
       "      <th>tutoring</th>\n",
       "      <th>semester</th>\n",
       "      <th>year</th>\n",
       "      <th>credits</th>\n",
       "      <th>student_age</th>\n",
       "      <th>student_year</th>\n",
       "    </tr>\n",
       "  </thead>\n",
       "  <tbody>\n",
       "    <tr>\n",
       "      <th>0</th>\n",
       "      <td>0</td>\n",
       "      <td>13251</td>\n",
       "      <td>38.878529</td>\n",
       "      <td>-76.776049</td>\n",
       "      <td>3.64</td>\n",
       "      <td>5</td>\n",
       "      <td>68628.72693</td>\n",
       "      <td>Math</td>\n",
       "      <td>No</td>\n",
       "      <td>Fall</td>\n",
       "      <td>2007</td>\n",
       "      <td>15</td>\n",
       "      <td>26</td>\n",
       "      <td>Freshman</td>\n",
       "    </tr>\n",
       "    <tr>\n",
       "      <th>1</th>\n",
       "      <td>1</td>\n",
       "      <td>13251</td>\n",
       "      <td>38.878529</td>\n",
       "      <td>-76.776049</td>\n",
       "      <td>3.65</td>\n",
       "      <td>5</td>\n",
       "      <td>68628.72693</td>\n",
       "      <td>Math</td>\n",
       "      <td>No</td>\n",
       "      <td>Spring</td>\n",
       "      <td>2008</td>\n",
       "      <td>15</td>\n",
       "      <td>27</td>\n",
       "      <td>Freshman</td>\n",
       "    </tr>\n",
       "    <tr>\n",
       "      <th>2</th>\n",
       "      <td>2</td>\n",
       "      <td>13251</td>\n",
       "      <td>38.878529</td>\n",
       "      <td>-76.776049</td>\n",
       "      <td>4.00</td>\n",
       "      <td>5</td>\n",
       "      <td>68628.72693</td>\n",
       "      <td>Math</td>\n",
       "      <td>No</td>\n",
       "      <td>Fall</td>\n",
       "      <td>2008</td>\n",
       "      <td>9</td>\n",
       "      <td>27</td>\n",
       "      <td>Sophmore</td>\n",
       "    </tr>\n",
       "    <tr>\n",
       "      <th>3</th>\n",
       "      <td>3</td>\n",
       "      <td>13251</td>\n",
       "      <td>38.878529</td>\n",
       "      <td>-76.776049</td>\n",
       "      <td>4.00</td>\n",
       "      <td>4</td>\n",
       "      <td>68628.72693</td>\n",
       "      <td>Math</td>\n",
       "      <td>No</td>\n",
       "      <td>Spring</td>\n",
       "      <td>2009</td>\n",
       "      <td>9</td>\n",
       "      <td>28</td>\n",
       "      <td>Sophmore</td>\n",
       "    </tr>\n",
       "    <tr>\n",
       "      <th>4</th>\n",
       "      <td>4</td>\n",
       "      <td>13251</td>\n",
       "      <td>38.878529</td>\n",
       "      <td>-76.776049</td>\n",
       "      <td>3.30</td>\n",
       "      <td>4</td>\n",
       "      <td>68628.72693</td>\n",
       "      <td>Math</td>\n",
       "      <td>No</td>\n",
       "      <td>Fall</td>\n",
       "      <td>2009</td>\n",
       "      <td>18</td>\n",
       "      <td>28</td>\n",
       "      <td>Junior</td>\n",
       "    </tr>\n",
       "  </tbody>\n",
       "</table>\n",
       "</div>"
      ],
      "text/plain": [
       "   Unnamed: 0     id        lat        lon   gpa  avg_hours_studied  \\\n",
       "0           0  13251  38.878529 -76.776049  3.64                  5   \n",
       "1           1  13251  38.878529 -76.776049  3.65                  5   \n",
       "2           2  13251  38.878529 -76.776049  4.00                  5   \n",
       "3           3  13251  38.878529 -76.776049  4.00                  4   \n",
       "4           4  13251  38.878529 -76.776049  3.30                  4   \n",
       "\n",
       "   parents_income major tutoring semester  year  credits  student_age  \\\n",
       "0     68628.72693  Math       No     Fall  2007       15           26   \n",
       "1     68628.72693  Math       No   Spring  2008       15           27   \n",
       "2     68628.72693  Math       No     Fall  2008        9           27   \n",
       "3     68628.72693  Math       No   Spring  2009        9           28   \n",
       "4     68628.72693  Math       No     Fall  2009       18           28   \n",
       "\n",
       "  student_year  \n",
       "0     Freshman  \n",
       "1     Freshman  \n",
       "2     Sophmore  \n",
       "3     Sophmore  \n",
       "4       Junior  "
      ]
     },
     "execution_count": 554,
     "metadata": {},
     "output_type": "execute_result"
    }
   ],
   "source": [
    "df = pd.read_csv('my_data.csv', nrows= 10000)\n",
    "df.head()"
   ]
  },
  {
   "cell_type": "code",
   "execution_count": 555,
   "id": "3529f213-0340-460a-ab08-924ebce63315",
   "metadata": {},
   "outputs": [
    {
     "data": {
      "text/plain": [
       "Index(['Unnamed: 0', 'id', 'lat', 'lon', 'gpa', 'avg_hours_studied',\n",
       "       'parents_income', 'major', 'tutoring', 'semester', 'year', 'credits',\n",
       "       'student_age', 'student_year'],\n",
       "      dtype='object')"
      ]
     },
     "execution_count": 555,
     "metadata": {},
     "output_type": "execute_result"
    }
   ],
   "source": [
    "df.columns"
   ]
  },
  {
   "cell_type": "code",
   "execution_count": 556,
   "id": "92a485cc-67b4-42e2-9a5d-f9705b6598ed",
   "metadata": {},
   "outputs": [
    {
     "data": {
      "text/plain": [
       "(10000, 14)"
      ]
     },
     "execution_count": 556,
     "metadata": {},
     "output_type": "execute_result"
    }
   ],
   "source": [
    "df.shape"
   ]
  },
  {
   "cell_type": "markdown",
   "id": "03b0ce2f-0efd-4add-81d5-099e8fe878d0",
   "metadata": {},
   "source": [
    "After initial examination, it seems that there needs to be some binning done to this data. The latitude and longitude have are in 6 decimal points. The income is in 5 decimal points as well. I would want to bin those columns so the numerical values are transoformed into catergical."
   ]
  },
  {
   "cell_type": "markdown",
   "id": "d1d584fa-93a0-4124-a37e-13032cbcd5b1",
   "metadata": {},
   "source": [
    "In this section we are going to explore each variable."
   ]
  },
  {
   "cell_type": "markdown",
   "id": "a189f141-a277-4102-9a69-a2fbaea38dd1",
   "metadata": {},
   "source": [
    "### Latitudes and Longitudes"
   ]
  },
  {
   "cell_type": "markdown",
   "id": "04d58d6f-8a8b-4869-be3d-7e262ac9f827",
   "metadata": {},
   "source": [
    "Latitudes and longitudes will be essential for the alogirthm. As people who live on campus might find it easier to study or get distracted from parties, events etc. They are currently in numerical which I can will change into ordinal data. To change it I will will bin the datas. I will start the bin from the min and end at the max."
   ]
  },
  {
   "cell_type": "code",
   "execution_count": 557,
   "id": "5e1aea4c-bd14-4588-957c-4338a9736748",
   "metadata": {},
   "outputs": [
    {
     "data": {
      "text/plain": [
       "32.16091059864896"
      ]
     },
     "execution_count": 557,
     "metadata": {},
     "output_type": "execute_result"
    }
   ],
   "source": [
    "df[\"lat\"].min()"
   ]
  },
  {
   "cell_type": "code",
   "execution_count": 558,
   "id": "8b43540a-1527-44b0-98cf-ae85b3e91e39",
   "metadata": {},
   "outputs": [
    {
     "data": {
      "text/plain": [
       "39.90721968882051"
      ]
     },
     "execution_count": 558,
     "metadata": {},
     "output_type": "execute_result"
    }
   ],
   "source": [
    "df[\"lat\"].max()"
   ]
  },
  {
   "cell_type": "code",
   "execution_count": 559,
   "id": "672da2e9-6226-4ef5-a6bf-16c441674cda",
   "metadata": {},
   "outputs": [
    {
     "data": {
      "text/plain": [
       "-94.50942993681656"
      ]
     },
     "execution_count": 559,
     "metadata": {},
     "output_type": "execute_result"
    }
   ],
   "source": [
    "df[\"lon\"].min()"
   ]
  },
  {
   "cell_type": "code",
   "execution_count": 560,
   "id": "6255d193-a650-48fd-b282-7fddca740375",
   "metadata": {},
   "outputs": [
    {
     "data": {
      "text/plain": [
       "-76.05007318312424"
      ]
     },
     "execution_count": 560,
     "metadata": {},
     "output_type": "execute_result"
    }
   ],
   "source": [
    "df[\"lon\"].max()"
   ]
  },
  {
   "cell_type": "code",
   "execution_count": 561,
   "id": "3cdca0d3-48b0-4960-ad8a-97835f30076e",
   "metadata": {},
   "outputs": [],
   "source": [
    "lat_bins = [31, 32, 33, 34, 35, 36, 37, 38, 39, 40, 41]\n",
    "lon_bins = [-95, -90, -85, -80, -75]\n",
    "df['lat_bin'] = pd.cut(df['lat'], bins=lat_bins)\n",
    "df['lon_bin'] = pd.cut(df['lon'], bins=lon_bins)"
   ]
  },
  {
   "cell_type": "markdown",
   "id": "623f15bc-e5bc-40ea-8433-68d6903d879f",
   "metadata": {},
   "source": [
    "### GPA "
   ]
  },
  {
   "cell_type": "markdown",
   "id": "7713eb0b-3bb9-49a9-901d-a3a753d6e593",
   "metadata": {},
   "source": [
    "This is my target variable. This model is trained to predict a student's gpa. "
   ]
  },
  {
   "cell_type": "code",
   "execution_count": 562,
   "id": "21910457-f37b-4c8a-ac46-3268d8ae74b8",
   "metadata": {},
   "outputs": [
    {
     "data": {
      "text/plain": [
       "0.23"
      ]
     },
     "execution_count": 562,
     "metadata": {},
     "output_type": "execute_result"
    }
   ],
   "source": [
    "df[\"gpa\"].min()"
   ]
  },
  {
   "cell_type": "code",
   "execution_count": 563,
   "id": "c6c9bf7a-82e5-4b23-8d1d-a09774d10e47",
   "metadata": {},
   "outputs": [
    {
     "data": {
      "text/plain": [
       "4.1"
      ]
     },
     "execution_count": 563,
     "metadata": {},
     "output_type": "execute_result"
    }
   ],
   "source": [
    "df[\"gpa\"].max()"
   ]
  },
  {
   "cell_type": "code",
   "execution_count": 564,
   "id": "8f663e44-1b2c-4316-a0b3-839bbf719226",
   "metadata": {},
   "outputs": [
    {
     "data": {
      "text/plain": [
       "Unnamed: 0           860\n",
       "id                   860\n",
       "lat                  860\n",
       "lon                  860\n",
       "gpa                  860\n",
       "avg_hours_studied    860\n",
       "parents_income       860\n",
       "major                860\n",
       "tutoring             822\n",
       "semester             860\n",
       "year                 860\n",
       "credits              860\n",
       "student_age          860\n",
       "student_year         860\n",
       "lat_bin              860\n",
       "lon_bin              860\n",
       "dtype: int64"
      ]
     },
     "execution_count": 564,
     "metadata": {},
     "output_type": "execute_result"
    }
   ],
   "source": [
    "df[df[\"gpa\"] > 4.0].count()"
   ]
  },
  {
   "cell_type": "code",
   "execution_count": 565,
   "id": "2b9c7954-d56e-4847-95ef-6694e2e6cd1e",
   "metadata": {},
   "outputs": [
    {
     "data": {
      "text/plain": [
       "<AxesSubplot:>"
      ]
     },
     "execution_count": 565,
     "metadata": {},
     "output_type": "execute_result"
    },
    {
     "data": {
      "image/png": "[encoded data removed]",
      "text/plain": [
       "<Figure size 640x480 with 1 Axes>"
      ]
     },
     "metadata": {},
     "output_type": "display_data"
    }
   ],
   "source": [
    "df['gpa'].value_counts().plot(kind='line')"
   ]
  },
  {
   "cell_type": "markdown",
   "id": "e0584674-e4b3-442e-8c66-771f601a39eb",
   "metadata": {},
   "source": [
    "The max for the gpa is 4.1. The scale for University GPA's are from 0 to 4. So in this case, it is an outlier. I will be deleting the rows which consists of 4.1 GPAs."
   ]
  },
  {
   "cell_type": "markdown",
   "id": "dcf15c47-74c8-4868-8b3d-f1de57ea3dfc",
   "metadata": {},
   "source": [
    "### Average Hours Studied"
   ]
  },
  {
   "cell_type": "code",
   "execution_count": 566,
   "id": "b8b0aa2d-c083-406c-9114-c3deac7d5f32",
   "metadata": {},
   "outputs": [
    {
     "data": {
      "text/plain": [
       "0"
      ]
     },
     "execution_count": 566,
     "metadata": {},
     "output_type": "execute_result"
    }
   ],
   "source": [
    "df[\"avg_hours_studied\"].min()"
   ]
  },
  {
   "cell_type": "code",
   "execution_count": 567,
   "id": "6cf0a159-05a6-43cc-b3e6-46723eb5110a",
   "metadata": {},
   "outputs": [
    {
     "data": {
      "text/plain": [
       "10"
      ]
     },
     "execution_count": 567,
     "metadata": {},
     "output_type": "execute_result"
    }
   ],
   "source": [
    "df[\"avg_hours_studied\"].max()"
   ]
  },
  {
   "cell_type": "code",
   "execution_count": 568,
   "id": "56a8c648-3de0-49d0-b03c-029d14ccdaf9",
   "metadata": {},
   "outputs": [
    {
     "data": {
      "text/plain": [
       "{'whiskers': [<matplotlib.lines.Line2D at 0x7fa42139d0a0>,\n",
       "  <matplotlib.lines.Line2D at 0x7fa42139d370>],\n",
       " 'caps': [<matplotlib.lines.Line2D at 0x7fa42139d640>,\n",
       "  <matplotlib.lines.Line2D at 0x7fa42139d910>],\n",
       " 'boxes': [<matplotlib.lines.Line2D at 0x7fa3d2addd90>],\n",
       " 'medians': [<matplotlib.lines.Line2D at 0x7fa42139dbe0>],\n",
       " 'fliers': [<matplotlib.lines.Line2D at 0x7fa42139deb0>],\n",
       " 'means': []}"
      ]
     },
     "execution_count": 568,
     "metadata": {},
     "output_type": "execute_result"
    },
    {
     "data": {
      "image/png": "[encoded data removed]",
      "text/plain": [
       "<Figure size 640x480 with 1 Axes>"
      ]
     },
     "metadata": {},
     "output_type": "display_data"
    }
   ],
   "source": [
    "plt.boxplot(df['avg_hours_studied'])"
   ]
  },
  {
   "cell_type": "markdown",
   "id": "729f0bb2-4734-49cd-a464-790e4f37cc0e",
   "metadata": {},
   "source": [
    "The boxplot shows that there are outliers. Lets say the a student studies 5 hours per day. 5 * 75 = 375. I will consider anything that is above 500 to be an outlier."
   ]
  },
  {
   "cell_type": "code",
   "execution_count": 569,
   "id": "8b5dc56e-91d4-44f7-8dab-af71e6756427",
   "metadata": {},
   "outputs": [
    {
     "data": {
      "text/plain": [
       "Unnamed: 0           0\n",
       "id                   0\n",
       "lat                  0\n",
       "lon                  0\n",
       "gpa                  0\n",
       "avg_hours_studied    0\n",
       "parents_income       0\n",
       "major                0\n",
       "tutoring             0\n",
       "semester             0\n",
       "year                 0\n",
       "credits              0\n",
       "student_age          0\n",
       "student_year         0\n",
       "lat_bin              0\n",
       "lon_bin              0\n",
       "dtype: int64"
      ]
     },
     "execution_count": 569,
     "metadata": {},
     "output_type": "execute_result"
    }
   ],
   "source": [
    "df[df['avg_hours_studied'] > 500].count()"
   ]
  },
  {
   "cell_type": "markdown",
   "id": "f2350698-1e57-4707-94a4-6b401c83fb94",
   "metadata": {},
   "source": [
    "### Parents Income"
   ]
  },
  {
   "cell_type": "code",
   "execution_count": 570,
   "id": "453830b5-ec86-4157-95ef-4bff7ffb257b",
   "metadata": {},
   "outputs": [
    {
     "data": {
      "text/plain": [
       "28518.329794788064"
      ]
     },
     "execution_count": 570,
     "metadata": {},
     "output_type": "execute_result"
    }
   ],
   "source": [
    "df['parents_income'].min()"
   ]
  },
  {
   "cell_type": "code",
   "execution_count": 571,
   "id": "d6d1d088-3404-49a5-ae82-c884c3fc53f1",
   "metadata": {},
   "outputs": [
    {
     "data": {
      "text/plain": [
       "175899.23293723704"
      ]
     },
     "execution_count": 571,
     "metadata": {},
     "output_type": "execute_result"
    }
   ],
   "source": [
    "df['parents_income'].max()"
   ]
  },
  {
   "cell_type": "code",
   "execution_count": 572,
   "id": "d9ca7fde-4926-403f-bb3a-35485fd2f3dd",
   "metadata": {},
   "outputs": [
    {
     "data": {
      "text/plain": [
       "<AxesSubplot:xlabel='parents_income', ylabel='Count'>"
      ]
     },
     "execution_count": 572,
     "metadata": {},
     "output_type": "execute_result"
    },
    {
     "data": {
      "image/png": "[encoded data removed]",
      "text/plain": [
       "<Figure size 640x480 with 1 Axes>"
      ]
     },
     "metadata": {},
     "output_type": "display_data"
    }
   ],
   "source": [
    "sns.histplot(data=df, x='parents_income', bins=15)"
   ]
  },
  {
   "cell_type": "markdown",
   "id": "f2597ed6-fcb3-42f6-9f6d-3a5f2bf9ceb8",
   "metadata": {},
   "source": [
    "This is an important variable. Students may perform well if their parents are doing well as there is no pressure about earning money or vice versa. There is no outliers for this variable."
   ]
  },
  {
   "cell_type": "markdown",
   "id": "2e903077-8b84-461e-b48a-e8322f896da0",
   "metadata": {},
   "source": [
    "### Major"
   ]
  },
  {
   "cell_type": "code",
   "execution_count": 573,
   "id": "92ac7c14-3e19-41f1-88da-3858856b1c40",
   "metadata": {},
   "outputs": [
    {
     "data": {
      "text/plain": [
       "<AxesSubplot:xlabel='major', ylabel='Count'>"
      ]
     },
     "execution_count": 573,
     "metadata": {},
     "output_type": "execute_result"
    },
    {
     "data": {
      "image/png": "[encoded data removed]",
      "text/plain": [
       "<Figure size 640x480 with 1 Axes>"
      ]
     },
     "metadata": {},
     "output_type": "display_data"
    }
   ],
   "source": [
    "sns.histplot(data=df, x='major',bins = 10)"
   ]
  },
  {
   "cell_type": "markdown",
   "id": "5b183266-e438-42c7-b3d1-6317e5c089cf",
   "metadata": {},
   "source": [
    "The dataset shows that there are 5 majors. Physics is the most common major and English is the least. But I would say that they are evenly disributed."
   ]
  },
  {
   "cell_type": "markdown",
   "id": "1779c202-60e0-4141-abe9-e872b95fa3f4",
   "metadata": {},
   "source": [
    "### Tutoring"
   ]
  },
  {
   "cell_type": "code",
   "execution_count": 574,
   "id": "b9bed101-ee2a-499f-9347-d8422ec6b173",
   "metadata": {},
   "outputs": [
    {
     "data": {
      "text/plain": [
       "<AxesSubplot:xlabel='tutoring', ylabel='Count'>"
      ]
     },
     "execution_count": 574,
     "metadata": {},
     "output_type": "execute_result"
    },
    {
     "data": {
      "image/png": "[encoded data removed]",
      "text/plain": [
       "<Figure size 640x480 with 1 Axes>"
      ]
     },
     "metadata": {},
     "output_type": "display_data"
    }
   ],
   "source": [
    "sns.histplot(data=df, x='tutoring', bins = 10)"
   ]
  },
  {
   "cell_type": "markdown",
   "id": "ebe1ff95-3707-4593-b445-6120e9936604",
   "metadata": {},
   "source": [
    "This column will be useful. People who use tutoring services may understand the course materials better. As they are getting help outside of class."
   ]
  },
  {
   "cell_type": "markdown",
   "id": "6a8cd5bb-d3e1-4217-bc96-eeae40cd21f7",
   "metadata": {},
   "source": [
    "### Credits"
   ]
  },
  {
   "cell_type": "code",
   "execution_count": 575,
   "id": "933906cd-d236-44f6-9d57-0e7a8dfbfa3f",
   "metadata": {},
   "outputs": [
    {
     "data": {
      "text/plain": [
       "9"
      ]
     },
     "execution_count": 575,
     "metadata": {},
     "output_type": "execute_result"
    }
   ],
   "source": [
    "df['credits'].min()"
   ]
  },
  {
   "cell_type": "code",
   "execution_count": 576,
   "id": "64a77ebd-2e0f-46e7-876c-6fdefd6a284f",
   "metadata": {},
   "outputs": [
    {
     "data": {
      "text/plain": [
       "18"
      ]
     },
     "execution_count": 576,
     "metadata": {},
     "output_type": "execute_result"
    }
   ],
   "source": [
    "df['credits'].max()"
   ]
  },
  {
   "cell_type": "code",
   "execution_count": 577,
   "id": "f34edfd8-19ca-4a92-96c0-1c36e60d7bb5",
   "metadata": {},
   "outputs": [
    {
     "data": {
      "text/plain": [
       "<AxesSubplot:xlabel='credits', ylabel='Count'>"
      ]
     },
     "execution_count": 577,
     "metadata": {},
     "output_type": "execute_result"
    },
    {
     "data": {
      "image/png": "[encoded data removed]",
      "text/plain": [
       "<Figure size 640x480 with 1 Axes>"
      ]
     },
     "metadata": {},
     "output_type": "display_data"
    }
   ],
   "source": [
    "sns.histplot(data=df, x='credits',bins = 10)"
   ]
  },
  {
   "cell_type": "markdown",
   "id": "5a698edd-a96e-4bae-95dd-cddf1a61f08e",
   "metadata": {},
   "source": [
    "Credits will also be very useful. Student with less credits do not have to spend time on multiple subjects on once. Rather they can afford to spend all of their time into a few subjects. The min for this column is 9 and the max for this column is 18."
   ]
  },
  {
   "cell_type": "markdown",
   "id": "1ae32123-4e7e-4acd-91cc-419e78f456a0",
   "metadata": {},
   "source": [
    "### Student Age"
   ]
  },
  {
   "cell_type": "code",
   "execution_count": 578,
   "id": "5cf523f6-00f5-4fce-a293-d7236b6d86b3",
   "metadata": {},
   "outputs": [
    {
     "data": {
      "text/plain": [
       "17"
      ]
     },
     "execution_count": 578,
     "metadata": {},
     "output_type": "execute_result"
    }
   ],
   "source": [
    "df['student_age'].min()"
   ]
  },
  {
   "cell_type": "code",
   "execution_count": 579,
   "id": "d28310ce-db35-4e53-ab53-3ca8581692db",
   "metadata": {},
   "outputs": [
    {
     "data": {
      "text/plain": [
       "33"
      ]
     },
     "execution_count": 579,
     "metadata": {},
     "output_type": "execute_result"
    }
   ],
   "source": [
    "df['student_age'].max()"
   ]
  },
  {
   "cell_type": "code",
   "execution_count": 580,
   "id": "c91be42c-3138-4e6c-8cec-574bf64792d6",
   "metadata": {},
   "outputs": [
    {
     "data": {
      "text/plain": [
       "<AxesSubplot:xlabel='student_age', ylabel='Count'>"
      ]
     },
     "execution_count": 580,
     "metadata": {},
     "output_type": "execute_result"
    },
    {
     "data": {
      "image/png": "[encoded data removed]",
      "text/plain": [
       "<Figure size 640x480 with 1 Axes>"
      ]
     },
     "metadata": {},
     "output_type": "display_data"
    }
   ],
   "source": [
    "sns.histplot(data=df, x='student_age', bins = 10)"
   ]
  },
  {
   "cell_type": "markdown",
   "id": "dc99eb15-9bd1-4343-9ba0-d7932d33c46f",
   "metadata": {},
   "source": [
    "Student Age is useful as well. This is because younger students may slack a little bit and older people may try harder. This is becaues they cannot afford to waste any time. There seems to be no outliers in this column. The min is 17 and the max is 33."
   ]
  },
  {
   "cell_type": "markdown",
   "id": "8d56e7e6-0041-48d7-a9fb-3613d4950c27",
   "metadata": {},
   "source": [
    "Does this school have transfer students?\n",
    "To figure this question out, we need to first find the number of students who started as a freshman."
   ]
  },
  {
   "cell_type": "code",
   "execution_count": 581,
   "id": "8a6dfa31-0d71-49bd-82ab-bb61756be603",
   "metadata": {},
   "outputs": [
    {
     "data": {
      "text/plain": [
       "(1000,)"
      ]
     },
     "execution_count": 581,
     "metadata": {},
     "output_type": "execute_result"
    }
   ],
   "source": [
    "freshman_students = df[(df[\"student_year\"] == \"Freshman\") & (df[\"semester\"] == \"Spring\")]\n",
    "freshman_unique_ids = freshman_students[\"id\"].unique()\n",
    "freshman_unique_ids.shape"
   ]
  },
  {
   "cell_type": "code",
   "execution_count": 582,
   "id": "517f1c75-ba22-448b-930a-bd841d2bcc81",
   "metadata": {},
   "outputs": [
    {
     "data": {
      "text/plain": [
       "(1000,)"
      ]
     },
     "execution_count": 582,
     "metadata": {},
     "output_type": "execute_result"
    }
   ],
   "source": [
    "senior_students = df[(df[\"student_year\"] == \"Senior\") & (df[\"semester\"] == \"Fall\")]\n",
    "senior_unique_ids = senior_students[\"id\"].unique()\n",
    "senior_unique_ids.shape"
   ]
  },
  {
   "cell_type": "markdown",
   "id": "ac482b80-508e-4a45-99a3-3bcc4a5624e4",
   "metadata": {},
   "source": [
    "There are a total of 100000 unique ids of students who started has a freshman. But there is the same  amount of ids with the school year senior. So this tell us that there is no transfers in this university."
   ]
  },
  {
   "cell_type": "markdown",
   "id": "d6133d71-746f-4320-aed5-05c08c96a359",
   "metadata": {},
   "source": [
    "What is the median length of attendence at this university?"
   ]
  },
  {
   "cell_type": "code",
   "execution_count": 583,
   "id": "1c89f84d-f1a2-4d2c-b886-6baa493acd51",
   "metadata": {},
   "outputs": [
    {
     "name": "stdout",
     "output_type": "stream",
     "text": [
      "5.0\n"
     ]
    }
   ],
   "source": [
    "Total_year_of_one_student = df.groupby(\"id\")[\"year\"].apply(lambda x: x.max() - x.min()).median()\n",
    "print(Total_year_of_one_student)"
   ]
  },
  {
   "cell_type": "markdown",
   "id": "43623b3c-882b-40e1-a0e3-a6ee46822e22",
   "metadata": {},
   "source": [
    "After calculation, the median lenght of attendence at this university is 5 years."
   ]
  },
  {
   "cell_type": "markdown",
   "id": "5a2be61f-b7ee-46f9-b77a-f026603aed7f",
   "metadata": {},
   "source": [
    "Do you think this university has any one credit classes?"
   ]
  },
  {
   "cell_type": "markdown",
   "id": "8550d6d3-76b8-465f-a432-112713f62ab1",
   "metadata": {},
   "source": [
    "Since we are not given the credits of each class. We can also assume that the university has any one credit classes. If the university does offer one credit classes then the total credits take will be odd. If a person take 9 credits, then he/she might have take either 3 3-credit classes or 2 4-credit classes and 1 1-credit class."
   ]
  },
  {
   "cell_type": "code",
   "execution_count": 584,
   "id": "b13e8f44-dd5f-4093-926b-bbe828fdff48",
   "metadata": {},
   "outputs": [
    {
     "data": {
      "text/plain": [
       "Unnamed: 0           5060\n",
       "id                   5060\n",
       "lat                  5060\n",
       "lon                  5060\n",
       "gpa                  5060\n",
       "avg_hours_studied    5060\n",
       "parents_income       5060\n",
       "major                5060\n",
       "tutoring             4816\n",
       "semester             5060\n",
       "year                 5060\n",
       "credits              5060\n",
       "student_age          5060\n",
       "student_year         5060\n",
       "lat_bin              5060\n",
       "lon_bin              5060\n",
       "dtype: int64"
      ]
     },
     "execution_count": 584,
     "metadata": {},
     "output_type": "execute_result"
    }
   ],
   "source": [
    "odd_credit_semesters = df[(df[\"credits\"] % 2  == 1)]\n",
    "odd_credit_semesters.count()"
   ]
  },
  {
   "cell_type": "markdown",
   "id": "0ec6be68-7c75-4c80-95ce-521dd21dbc8a",
   "metadata": {},
   "source": [
    "Since there is semesters with odd credits. I believe that the university does offer one credit classes."
   ]
  },
  {
   "cell_type": "markdown",
   "id": "3234e98b-0992-454c-8cae-4e88463ab1c9",
   "metadata": {},
   "source": [
    "Is grade inflation a problem at this university?\n",
    "To tackle this problem, first I am going to get the average mean of each year then use a line plot for it. The reason I chose line plot was because it is good for visualizing data over time showing the change over the years."
   ]
  },
  {
   "cell_type": "code",
   "execution_count": 585,
   "id": "3d3c0ce5-85dd-498c-8789-35cee89d3768",
   "metadata": {},
   "outputs": [
    {
     "data": {
      "text/plain": [
       "[<matplotlib.lines.Line2D at 0x7fa3694b3190>]"
      ]
     },
     "execution_count": 585,
     "metadata": {},
     "output_type": "execute_result"
    },
    {
     "data": {
      "image/png": "[encoded data removed]",
      "text/plain": [
       "<Figure size 640x480 with 1 Axes>"
      ]
     },
     "metadata": {},
     "output_type": "display_data"
    }
   ],
   "source": [
    "mean_of_years = df.groupby(\"year\")[\"gpa\"].mean()\n",
    "plt.plot(mean_of_years.index, mean_of_years.values)"
   ]
  },
  {
   "cell_type": "markdown",
   "id": "d4362278-c61f-442b-92d2-6f165c5ba631",
   "metadata": {},
   "source": [
    "From the graph, we tell that the graph was has been increasing. So yes, Grade inflation is a problem at this university."
   ]
  },
  {
   "cell_type": "markdown",
   "id": "392905a4-ed21-4530-953c-5d2fdb25c8f6",
   "metadata": {},
   "source": [
    "In what area do you think the University might be located?"
   ]
  },
  {
   "cell_type": "code",
   "execution_count": 586,
   "id": "c7d0fe1a-00e6-4549-96a6-fe79507448e2",
   "metadata": {},
   "outputs": [
    {
     "data": {
      "text/plain": [
       "(39, 40]    5160\n",
       "(38, 39]    2350\n",
       "(32, 33]    2120\n",
       "(33, 34]     370\n",
       "(31, 32]       0\n",
       "(34, 35]       0\n",
       "(35, 36]       0\n",
       "(36, 37]       0\n",
       "(37, 38]       0\n",
       "(40, 41]       0\n",
       "Name: lat_bin, dtype: int64"
      ]
     },
     "execution_count": 586,
     "metadata": {},
     "output_type": "execute_result"
    }
   ],
   "source": [
    "df['lat_bin'].value_counts()"
   ]
  },
  {
   "cell_type": "code",
   "execution_count": 587,
   "id": "09e5e2da-40b1-4e2f-9c15-4913e7c51910",
   "metadata": {},
   "outputs": [
    {
     "data": {
      "text/plain": [
       "(-80, -75]    5010\n",
       "(-95, -90]    2500\n",
       "(-90, -85]    2490\n",
       "(-85, -80]       0\n",
       "Name: lon_bin, dtype: int64"
      ]
     },
     "execution_count": 587,
     "metadata": {},
     "output_type": "execute_result"
    }
   ],
   "source": [
    "df['lon_bin'].value_counts()"
   ]
  },
  {
   "cell_type": "markdown",
   "id": "cb5b41e6-cf91-4f16-ba17-e693e6ab6452",
   "metadata": {},
   "source": [
    "This university is in the area of 39 to 40 latitude and -80 to -75 longitude."
   ]
  },
  {
   "cell_type": "markdown",
   "id": "27158b4f-d53a-4b19-80ac-bf0b4d12c19f",
   "metadata": {},
   "source": [
    "To find out if there is a significant difference in grade, I will be using hypothesis tesing. I will be using T testing as it is used to measure the difference between exactly two means i.e. one who goes to tutoring and one who doesn't. The Null Hypothesis for this test will be Tutoring does not have a significant effect on grade. To reject the hypothesis I will use an alpha value of 5% or 0.05. I will not be using the \"missing values\"."
   ]
  },
  {
   "cell_type": "code",
   "execution_count": 588,
   "id": "639f7058-4996-4f5e-8ec2-f1f6638d09d9",
   "metadata": {},
   "outputs": [
    {
     "name": "stdout",
     "output_type": "stream",
     "text": [
      "T-statistic value:  -4.7838421382092795\n",
      "P-Value:  1.7455985733715166e-06\n"
     ]
    }
   ],
   "source": [
    "Tutoring = df[df[\"tutoring\"] == \"Yes\"]\n",
    "No_Tutoring = df[df[\"tutoring\"] == \"No\"]\n",
    "t_stat, p_value = ttest_ind(Tutoring[\"gpa\"], No_Tutoring[\"gpa\"])\n",
    "print(\"T-statistic value: \", t_stat)  \n",
    "print(\"P-Value: \", p_value)"
   ]
  },
  {
   "cell_type": "markdown",
   "id": "e270b2d7-47a1-4172-aa79-52656d718c00",
   "metadata": {},
   "source": [
    "Since the P-Value is less then the alpha value I chose, I can reject the null hypothesis and say that Tutoring does have a significant effect on grade."
   ]
  },
  {
   "cell_type": "markdown",
   "id": "b2fb5d13-638f-4cce-af50-9442b1f9fca7",
   "metadata": {},
   "source": [
    "How often do students switch majors?"
   ]
  },
  {
   "cell_type": "code",
   "execution_count": null,
   "id": "c7f04b65-69d8-4ecc-b131-b1a132165104",
   "metadata": {},
   "outputs": [],
   "source": []
  },
  {
   "cell_type": "markdown",
   "id": "ca4b9940-74df-4bf9-afec-3470e8e83143",
   "metadata": {},
   "source": [
    "Do different majors have different GPA distributions?"
   ]
  },
  {
   "cell_type": "code",
   "execution_count": 589,
   "id": "ccaf693c-8e72-4955-aa7c-e37a299a88b8",
   "metadata": {},
   "outputs": [
    {
     "data": {
      "text/plain": [
       "<AxesSubplot:xlabel='major', ylabel='gpa'>"
      ]
     },
     "execution_count": 589,
     "metadata": {},
     "output_type": "execute_result"
    },
    {
     "data": {
      "image/png": "[encoded data removed]",
      "text/plain": [
       "<Figure size 1000x600 with 1 Axes>"
      ]
     },
     "metadata": {},
     "output_type": "display_data"
    }
   ],
   "source": [
    "plt.figure(figsize=(10, 6))\n",
    "sns.boxplot(data=df, x='major', y='gpa')"
   ]
  },
  {
   "cell_type": "markdown",
   "id": "951c2562-8163-4193-8230-7028e0ae95c3",
   "metadata": {},
   "source": [
    "Looking at the box plot English majors have a slight better GPA than the other majors. But just to be sure, I will be using ANOVA testing as we are measuring the means of 5 groups.\n",
    "The Null Hypothesis for this test will be different majors do not have a different GPA distributions. To reject the hypothesis I will use an alpha value of 5% or 0.05."
   ]
  },
  {
   "cell_type": "code",
   "execution_count": 590,
   "id": "792bc405-373e-426e-a3ce-66d2628cb56d",
   "metadata": {},
   "outputs": [
    {
     "name": "stdout",
     "output_type": "stream",
     "text": [
      "30.270492088076885 4.460546926689976e-25\n"
     ]
    }
   ],
   "source": [
    "ENG = df[df['major'] == 'English']\n",
    "MATH = df[df['major'] == 'Math']\n",
    "CS = df[df['major'] == 'CS']\n",
    "PHY = df[df['major'] == 'Physics']\n",
    "ENGR = df[df['major'] == 'Engineering']\n",
    "fvalue, pvalue = stats.f_oneway(ENG['gpa'], MATH['gpa'], CS['gpa'], PHY['gpa'], ENGR['gpa'])\n",
    "print(fvalue, pvalue)"
   ]
  },
  {
   "cell_type": "markdown",
   "id": "7a981186-6b9f-4c82-9630-a2bca975f2c2",
   "metadata": {},
   "source": [
    "Since the p-value was less than the alpha value, I can reject the Null hypothesis and say that different majors do have a different GPA distributions."
   ]
  },
  {
   "cell_type": "markdown",
   "id": "44258e24-b754-4121-9260-3129392f0754",
   "metadata": {},
   "source": [
    "# Data Cleaning\n",
    "Describe how you will deal with outliers and missing data if you found any. Explain why you picked whichever method you did. One-hot encode any variables you need to encode. Figure out how you plan on handling the latitude and longitude, and write code to handle it (ignoring it is not an option)."
   ]
  },
  {
   "cell_type": "markdown",
   "id": "9bbe4db2-fcc2-4c69-bf2f-79eff4185b64",
   "metadata": {},
   "source": [
    "There is missing values in tutoring. Since it is categorical data, I will replace the missing data with \"Missing\"."
   ]
  },
  {
   "cell_type": "code",
   "execution_count": 591,
   "id": "1f074c9e-a6b0-49bf-bf21-03fff98f5b02",
   "metadata": {},
   "outputs": [
    {
     "data": {
      "text/plain": [
       "Unnamed: 0             0\n",
       "id                     0\n",
       "lat                    0\n",
       "lon                    0\n",
       "gpa                    0\n",
       "avg_hours_studied      0\n",
       "parents_income         0\n",
       "major                  0\n",
       "tutoring             479\n",
       "semester               0\n",
       "year                   0\n",
       "credits                0\n",
       "student_age            0\n",
       "student_year           0\n",
       "lat_bin                0\n",
       "lon_bin                0\n",
       "dtype: int64"
      ]
     },
     "execution_count": 591,
     "metadata": {},
     "output_type": "execute_result"
    }
   ],
   "source": [
    "df.isnull().sum()"
   ]
  },
  {
   "cell_type": "code",
   "execution_count": 592,
   "id": "fde7eded-badf-4796-af51-39c5415f8299",
   "metadata": {},
   "outputs": [
    {
     "data": {
      "text/plain": [
       "No         9266\n",
       "Missing     479\n",
       "Yes         255\n",
       "Name: tutoring, dtype: int64"
      ]
     },
     "execution_count": 592,
     "metadata": {},
     "output_type": "execute_result"
    }
   ],
   "source": [
    "df.tutoring.fillna('Missing',inplace=True)\n",
    "df['tutoring'].value_counts()"
   ]
  },
  {
   "cell_type": "markdown",
   "id": "000a3bbf-b5a0-4023-a058-27008efe6b37",
   "metadata": {},
   "source": [
    "Since the distribution of lat is smaller. I will bin them in increment of ones. Whereas for lon I will increment it by 5."
   ]
  },
  {
   "cell_type": "markdown",
   "id": "4e4574df-1ac0-4794-b1e4-c32d7a73ad4e",
   "metadata": {},
   "source": [
    "As the box plot showed outliers for avg_hours_studied. To remove outliers for avg_hours_studied, I will be using the Z-score as we learned from class."
   ]
  },
  {
   "cell_type": "code",
   "execution_count": 593,
   "id": "4de312d1-843b-458f-9242-8f89267f5d43",
   "metadata": {},
   "outputs": [
    {
     "data": {
      "text/plain": [
       "Unnamed: 0           9983\n",
       "id                   9983\n",
       "lat                  9983\n",
       "lon                  9983\n",
       "gpa                  9983\n",
       "avg_hours_studied    9983\n",
       "parents_income       9983\n",
       "major                9983\n",
       "tutoring             9983\n",
       "semester             9983\n",
       "year                 9983\n",
       "credits              9983\n",
       "student_age          9983\n",
       "student_year         9983\n",
       "lat_bin              9983\n",
       "lon_bin              9983\n",
       "dtype: int64"
      ]
     },
     "execution_count": 593,
     "metadata": {},
     "output_type": "execute_result"
    }
   ],
   "source": [
    "df_filtered = df[np.abs(zscore(df[\"avg_hours_studied\"])) <= 3]\n",
    "df_filtered.count()"
   ]
  },
  {
   "cell_type": "markdown",
   "id": "616623e1-4650-4d6d-91e1-e4c2401918ae",
   "metadata": {},
   "source": [
    "I will also be removing GPAs that are greater than 4.0. For this process, since we already know the scale, I will just remove the rows that are out of the scale."
   ]
  },
  {
   "cell_type": "code",
   "execution_count": 594,
   "id": "176d8add-7411-44b8-988e-b639209e0d6e",
   "metadata": {},
   "outputs": [],
   "source": [
    "df_filtered = df_filtered[df_filtered['gpa'] <= 4.0]"
   ]
  },
  {
   "cell_type": "markdown",
   "id": "3009cfa4-6f6c-4aa9-8d21-d30dfcc5d357",
   "metadata": {},
   "source": [
    "I will be one-hot encoding majors and tutoring as they are categorical variables. I will not one-hot encode semesters as there are only two semesters."
   ]
  },
  {
   "cell_type": "code",
   "execution_count": 595,
   "id": "a2e76649-8fed-473a-9a88-bb741250f511",
   "metadata": {},
   "outputs": [
    {
     "data": {
      "text/plain": [
       "Unnamed: 0           10000\n",
       "id                   10000\n",
       "lat                  10000\n",
       "lon                  10000\n",
       "gpa                  10000\n",
       "avg_hours_studied    10000\n",
       "parents_income       10000\n",
       "semester             10000\n",
       "year                 10000\n",
       "credits              10000\n",
       "student_age          10000\n",
       "student_year         10000\n",
       "lat_bin              10000\n",
       "lon_bin              10000\n",
       "major_CS             10000\n",
       "major_Engineering    10000\n",
       "major_English        10000\n",
       "major_Math           10000\n",
       "major_Physics        10000\n",
       "tutoring_Missing     10000\n",
       "tutoring_No          10000\n",
       "tutoring_Yes         10000\n",
       "dtype: int64"
      ]
     },
     "execution_count": 595,
     "metadata": {},
     "output_type": "execute_result"
    }
   ],
   "source": [
    "df_filtered = pd.get_dummies(df, columns =['major','tutoring'])\n",
    "df_filtered.count()"
   ]
  },
  {
   "cell_type": "code",
   "execution_count": 596,
   "id": "cde20f28-dbe4-4974-a8d2-222c88b8a91a",
   "metadata": {},
   "outputs": [],
   "source": [
    "lat_lon_data = df[['lat', 'lon']]\n",
    "scaler = StandardScaler()\n",
    "scaler.fit(lat_lon_data)\n",
    "scaled_data = scaler.transform(lat_lon_data)\n",
    "df_filtered[['lat', 'lon']] = scaled_data"
   ]
  },
  {
   "cell_type": "markdown",
   "id": "900f593e-0845-43cc-ae44-e8c82b78f38f",
   "metadata": {},
   "source": [
    "# Evaluation\n",
    "Explain how you plan on evaluating your models. What is particularly tricky about evaluating this problem? (There are multiple gotchas with how this problem is structured--identify them!) What evaluation metric will you use?"
   ]
  },
  {
   "cell_type": "markdown",
   "id": "427d5caf-6612-4f72-a794-16ca53b39609",
   "metadata": {},
   "source": [
    "To evaluate this model, I will split the data set into training set and testing set. The thing that is tricky about evaluating this problem is that the datas are in chronological orders. So I should maintain the order. This is because the earlier semesters may be easier than the ones in senior years. The model should be able to predict the future rather than the past as the senior year GPAs might be less than then earlier years. The evaluation metric that I will use Root Mean Squared Error. Since this is a regression model rather than a classfication one, I would need to use regression metrics. RMSE and MSE punish larger errors rather than smaller errors. The reason I chose RMSE over MSE as it is measured in the same units as the response variable. Since I have already dealt with outliers, I would not have to worry about it in RMSE. "
   ]
  },
  {
   "cell_type": "markdown",
   "id": "7395aa6f-75ee-4e12-81c6-1175433be8ef",
   "metadata": {},
   "source": [
    "# Modeling\n",
    "Pick out at least three different models to try. If your model has hyperparameters, pick some and justify how you picked them. Try out your models! Keep in mind this is a toy problem, so your models might not be that accurate."
   ]
  },
  {
   "cell_type": "markdown",
   "id": "bc9e938e-aaec-4c3f-874d-09aead174072",
   "metadata": {},
   "source": [
    "First I will split the data into training and testing set"
   ]
  },
  {
   "cell_type": "code",
   "execution_count": 620,
   "id": "e5749173-6396-47fd-8a06-992167466696",
   "metadata": {},
   "outputs": [
    {
     "name": "stdout",
     "output_type": "stream",
     "text": [
      "0.4100352927322607\n"
     ]
    }
   ],
   "source": [
    "Features = df_filtered[['avg_hours_studied','year','credits','parents_income','student_age','major_CS','major_Engineering','major_English','major_Math','major_Physics','tutoring_Missing','tutoring_No','tutoring_Yes','lat','lon']]\n",
    "target = df_filtered[\"gpa\"]\n",
    "Features_train, Features_test, target_train, target_test = train_test_split(Features, target, test_size=0.3)\n",
    "modelL = LinearRegression()\n",
    "modelL.fit(Features_train, target_train)\n",
    "prediction = modelL.predict(Features_test)\n",
    "rmse = mean_squared_error(target_test, prediction, squared=False)\n",
    "print(rmse)"
   ]
  },
  {
   "cell_type": "code",
   "execution_count": 623,
   "id": "80ff4c85-4a56-493c-a6e1-e50b31586c42",
   "metadata": {},
   "outputs": [
    {
     "name": "stdout",
     "output_type": "stream",
     "text": [
      "0.39611883738763715\n"
     ]
    }
   ],
   "source": [
    "decision_tree = DecisionTreeRegressor()\n",
    "decision_tree.fit(Features_train, target_train)\n",
    "dt_prediction = decision_tree.predict(Features_test)\n",
    "rmse = mean_squared_error(target_test, dt_prediction, squared=False)\n",
    "print(rmse)"
   ]
  },
  {
   "cell_type": "code",
   "execution_count": 624,
   "id": "3c9eb4b8-4ed3-42e6-b9a7-7a25f75aa56b",
   "metadata": {},
   "outputs": [
    {
     "name": "stdout",
     "output_type": "stream",
     "text": [
      "0.2266814446163014\n"
     ]
    }
   ],
   "source": [
    "knearest = KNeighborsRegressor()\n",
    "knearest.fit(Features_train, target_train)\n",
    "kn_prediction = knearest.predict(Features_test)\n",
    "rmse = mean_squared_error(target_test, kn_prediction, squared=False)\n",
    "print(rmse)"
   ]
  },
  {
   "cell_type": "markdown",
   "id": "dff0f050-e4cb-4bc5-ae27-633a50a3b8fe",
   "metadata": {},
   "source": [
    "# Conclusion"
   ]
  },
  {
   "cell_type": "markdown",
   "id": "ad93ad9f-049a-4968-a96f-961717170e58",
   "metadata": {},
   "source": [
    "Summarize what you did and what the results are. Do you feel your model is successful? What additional data do you feel you'd need to go forward?"
   ]
  },
  {
   "cell_type": "markdown",
   "id": "ddcc2a18-9156-43fc-b791-551aea958b56",
   "metadata": {},
   "source": [
    "Overall, I think my k-neighbors algorithm was the most successful. As it had a rmse of 0.22 compared to 0.39 and 0.41. The hardest part was the latitude and longitude. I scaled them as I was unsure on how to put the bins into the model. I believe that my model was successful. Going forward, the data I would require would be the location of the campus so I can scale it better and also a ranking on the difficulty of the semester."
   ]
  },
  {
   "cell_type": "code",
   "execution_count": null,
   "id": "06db7bc5-7871-4c55-821a-5664b111c181",
   "metadata": {},
   "outputs": [],
   "source": []
  }
 ],
 "metadata": {
  "kernelspec": {
   "display_name": "Python 3 (ipykernel)",
   "language": "python",
   "name": "python3"
  },
  "language_info": {
   "codemirror_mode": {
    "name": "ipython",
    "version": 3
   },
   "file_extension": ".py",
   "mimetype": "text/x-python",
   "name": "python",
   "nbconvert_exporter": "python",
   "pygments_lexer": "ipython3",
   "version": "3.9.13"
  }
 },
 "nbformat": 4,
 "nbformat_minor": 5
}
